{
  "cells": [
    {
      "cell_type": "markdown",
      "metadata": {
        "id": "view-in-github",
        "colab_type": "text"
      },
      "source": [
        "<a href=\"https://colab.research.google.com/github/ToshikiNakamura0412/my_ipynb/blob/master/feature_matching_with_yolo.ipynb\" target=\"_parent\"><img src=\"https://colab.research.google.com/assets/colab-badge.svg\" alt=\"Open In Colab\"/></a>"
      ]
    },
    {
      "cell_type": "code",
      "execution_count": 23,
      "metadata": {
        "colab": {
          "base_uri": "https://localhost:8080/"
        },
        "id": "1WXVPj-StO3V",
        "outputId": "8fe8bcaf-26df-4acc-d393-14e2b8b8df14",
        "collapsed": true
      },
      "outputs": [
        {
          "output_type": "stream",
          "name": "stdout",
          "text": [
            "Requirement already satisfied: opencv-python in /usr/local/lib/python3.10/dist-packages (4.10.0.84)\n",
            "Requirement already satisfied: numpy>=1.21.2 in /usr/local/lib/python3.10/dist-packages (from opencv-python) (1.26.4)\n",
            "Requirement already satisfied: ultralytics in /usr/local/lib/python3.10/dist-packages (8.3.18)\n",
            "Requirement already satisfied: numpy>=1.23.0 in /usr/local/lib/python3.10/dist-packages (from ultralytics) (1.26.4)\n",
            "Requirement already satisfied: matplotlib>=3.3.0 in /usr/local/lib/python3.10/dist-packages (from ultralytics) (3.7.1)\n",
            "Requirement already satisfied: opencv-python>=4.6.0 in /usr/local/lib/python3.10/dist-packages (from ultralytics) (4.10.0.84)\n",
            "Requirement already satisfied: pillow>=7.1.2 in /usr/local/lib/python3.10/dist-packages (from ultralytics) (10.4.0)\n",
            "Requirement already satisfied: pyyaml>=5.3.1 in /usr/local/lib/python3.10/dist-packages (from ultralytics) (6.0.2)\n",
            "Requirement already satisfied: requests>=2.23.0 in /usr/local/lib/python3.10/dist-packages (from ultralytics) (2.32.3)\n",
            "Requirement already satisfied: scipy>=1.4.1 in /usr/local/lib/python3.10/dist-packages (from ultralytics) (1.13.1)\n",
            "Requirement already satisfied: torch>=1.8.0 in /usr/local/lib/python3.10/dist-packages (from ultralytics) (2.4.1+cu121)\n",
            "Requirement already satisfied: torchvision>=0.9.0 in /usr/local/lib/python3.10/dist-packages (from ultralytics) (0.19.1+cu121)\n",
            "Requirement already satisfied: tqdm>=4.64.0 in /usr/local/lib/python3.10/dist-packages (from ultralytics) (4.66.5)\n",
            "Requirement already satisfied: psutil in /usr/local/lib/python3.10/dist-packages (from ultralytics) (5.9.5)\n",
            "Requirement already satisfied: py-cpuinfo in /usr/local/lib/python3.10/dist-packages (from ultralytics) (9.0.0)\n",
            "Requirement already satisfied: pandas>=1.1.4 in /usr/local/lib/python3.10/dist-packages (from ultralytics) (2.2.2)\n",
            "Requirement already satisfied: seaborn>=0.11.0 in /usr/local/lib/python3.10/dist-packages (from ultralytics) (0.13.2)\n",
            "Requirement already satisfied: ultralytics-thop>=2.0.0 in /usr/local/lib/python3.10/dist-packages (from ultralytics) (2.0.9)\n",
            "Requirement already satisfied: contourpy>=1.0.1 in /usr/local/lib/python3.10/dist-packages (from matplotlib>=3.3.0->ultralytics) (1.3.0)\n",
            "Requirement already satisfied: cycler>=0.10 in /usr/local/lib/python3.10/dist-packages (from matplotlib>=3.3.0->ultralytics) (0.12.1)\n",
            "Requirement already satisfied: fonttools>=4.22.0 in /usr/local/lib/python3.10/dist-packages (from matplotlib>=3.3.0->ultralytics) (4.54.1)\n",
            "Requirement already satisfied: kiwisolver>=1.0.1 in /usr/local/lib/python3.10/dist-packages (from matplotlib>=3.3.0->ultralytics) (1.4.7)\n",
            "Requirement already satisfied: packaging>=20.0 in /usr/local/lib/python3.10/dist-packages (from matplotlib>=3.3.0->ultralytics) (24.1)\n",
            "Requirement already satisfied: pyparsing>=2.3.1 in /usr/local/lib/python3.10/dist-packages (from matplotlib>=3.3.0->ultralytics) (3.2.0)\n",
            "Requirement already satisfied: python-dateutil>=2.7 in /usr/local/lib/python3.10/dist-packages (from matplotlib>=3.3.0->ultralytics) (2.8.2)\n",
            "Requirement already satisfied: pytz>=2020.1 in /usr/local/lib/python3.10/dist-packages (from pandas>=1.1.4->ultralytics) (2024.2)\n",
            "Requirement already satisfied: tzdata>=2022.7 in /usr/local/lib/python3.10/dist-packages (from pandas>=1.1.4->ultralytics) (2024.2)\n",
            "Requirement already satisfied: charset-normalizer<4,>=2 in /usr/local/lib/python3.10/dist-packages (from requests>=2.23.0->ultralytics) (3.4.0)\n",
            "Requirement already satisfied: idna<4,>=2.5 in /usr/local/lib/python3.10/dist-packages (from requests>=2.23.0->ultralytics) (3.10)\n",
            "Requirement already satisfied: urllib3<3,>=1.21.1 in /usr/local/lib/python3.10/dist-packages (from requests>=2.23.0->ultralytics) (2.2.3)\n",
            "Requirement already satisfied: certifi>=2017.4.17 in /usr/local/lib/python3.10/dist-packages (from requests>=2.23.0->ultralytics) (2024.8.30)\n",
            "Requirement already satisfied: filelock in /usr/local/lib/python3.10/dist-packages (from torch>=1.8.0->ultralytics) (3.16.1)\n",
            "Requirement already satisfied: typing-extensions>=4.8.0 in /usr/local/lib/python3.10/dist-packages (from torch>=1.8.0->ultralytics) (4.12.2)\n",
            "Requirement already satisfied: sympy in /usr/local/lib/python3.10/dist-packages (from torch>=1.8.0->ultralytics) (1.13.3)\n",
            "Requirement already satisfied: networkx in /usr/local/lib/python3.10/dist-packages (from torch>=1.8.0->ultralytics) (3.4.1)\n",
            "Requirement already satisfied: jinja2 in /usr/local/lib/python3.10/dist-packages (from torch>=1.8.0->ultralytics) (3.1.4)\n",
            "Requirement already satisfied: fsspec in /usr/local/lib/python3.10/dist-packages (from torch>=1.8.0->ultralytics) (2024.6.1)\n",
            "Requirement already satisfied: six>=1.5 in /usr/local/lib/python3.10/dist-packages (from python-dateutil>=2.7->matplotlib>=3.3.0->ultralytics) (1.16.0)\n",
            "Requirement already satisfied: MarkupSafe>=2.0 in /usr/local/lib/python3.10/dist-packages (from jinja2->torch>=1.8.0->ultralytics) (3.0.1)\n",
            "Requirement already satisfied: mpmath<1.4,>=1.1.0 in /usr/local/lib/python3.10/dist-packages (from sympy->torch>=1.8.0->ultralytics) (1.3.0)\n"
          ]
        }
      ],
      "source": [
        "!pip install opencv-python\n",
        "!pip install ultralytics"
      ]
    },
    {
      "cell_type": "code",
      "source": [
        "import cv2\n",
        "import numpy as np\n",
        "from google.colab.patches import cv2_imshow\n",
        "from ultralytics import YOLO\n",
        "\n",
        "def extract_features_yolo(detector, img_path):\n",
        "  # YOLO\n",
        "  model = YOLO(\"yolov8n.pt\")\n",
        "  results = model.predict(source=img_path, save=True)\n",
        "\n",
        "  # mask\n",
        "  img = cv2.imread(img_path)\n",
        "  mask = np.full(img.shape[:2], 255, dtype=np.uint8)\n",
        "  for box in results[0].boxes:\n",
        "    x1, y1, x2, y2 = map(int, box.xyxy[0])\n",
        "    mask[y1:y2, x1:x2] = 0\n",
        "\n",
        "  # extraction\n",
        "  keypoints, descriptors = detector.detectAndCompute(img, mask)\n",
        "  img_with_keypoints = cv2.drawKeypoints(img, keypoints, None, color=(0, 255, 0), flags=0)\n",
        "\n",
        "  # viz\n",
        "  cv2_imshow(img_with_keypoints)\n",
        "\n",
        "def calc_descriptors_yolo(detector, img_path):\n",
        "  # YOLO\n",
        "  model = YOLO(\"yolov8n.pt\")\n",
        "  results = model.predict(source=img_path, save=True)\n",
        "\n",
        "  # mask\n",
        "  img = cv2.imread(img_path)\n",
        "  mask = np.full(img.shape[:2], 255, dtype=np.uint8)\n",
        "  for box in results[0].boxes:\n",
        "    x1, y1, x2, y2 = map(int, box.xyxy[0])\n",
        "    mask[y1:y2, x1:x2] = 0\n",
        "\n",
        "  # extraction\n",
        "  keypoints, descriptors = detector.detectAndCompute(img, mask)\n",
        "\n",
        "  return descriptors\n",
        "\n",
        "def calc_descriptors(detector, img_path):\n",
        "  img = cv2.imread(img_path)\n",
        "  keypoints, descriptors = detector.detectAndCompute(img, None)\n",
        "\n",
        "  return descriptors\n",
        "\n",
        "def calc_similarity(descriptor1, descriptor2):\n",
        "  matcher = cv2.BFMatcher()\n",
        "  matches = matcher.knnMatch(descriptor1, descriptor2, k=2)\n",
        "  dist = [m.distance for m, n in matches if m.distance < 0.75 * n.distance]\n",
        "  return np.mean(dist)"
      ],
      "metadata": {
        "id": "kCoc3rshWRat"
      },
      "execution_count": 24,
      "outputs": []
    },
    {
      "cell_type": "code",
      "source": [
        "detector = cv2.ORB_create()\n",
        "\n",
        "# YOLO\n",
        "source_descriptor = calc_descriptors_yolo(detector, \"image_0.png\")\n",
        "target_descriptor = calc_descriptors_yolo(detector, \"image_1.png\")\n",
        "similarity = calc_similarity(source_descriptor, target_descriptor)\n",
        "print(similarity)\n",
        "\n",
        "# No YOLO\n",
        "source_descriptor = calc_descriptors(detector, \"image_0.png\")\n",
        "target_descriptor = calc_descriptors(detector, \"image_1.png\")\n",
        "similarity = calc_similarity(source_descriptor, target_descriptor)\n",
        "print(similarity)"
      ],
      "metadata": {
        "colab": {
          "base_uri": "https://localhost:8080/"
        },
        "id": "rqbHn0T-kstb",
        "outputId": "31fe5e9a-a8f8-4dcd-9edb-32a99ad09c22"
      },
      "execution_count": 25,
      "outputs": [
        {
          "output_type": "stream",
          "name": "stdout",
          "text": [
            "\n",
            "image 1/1 /content/image_0.png: 384x640 10 persons, 1 bus, 148.3ms\n",
            "Speed: 2.6ms preprocess, 148.3ms inference, 1.6ms postprocess per image at shape (1, 3, 384, 640)\n",
            "Results saved to \u001b[1mruns/detect/predict15\u001b[0m\n",
            "\n",
            "image 1/1 /content/image_1.png: 384x640 9 persons, 1 bus, 141.6ms\n",
            "Speed: 2.8ms preprocess, 141.6ms inference, 1.2ms postprocess per image at shape (1, 3, 384, 640)\n",
            "Results saved to \u001b[1mruns/detect/predict16\u001b[0m\n",
            "184.92252750128088\n",
            "188.49818210278528\n"
          ]
        }
      ]
    },
    {
      "cell_type": "code",
      "source": [
        "detector = cv2.AKAZE_create()\n",
        "\n",
        "# YOLO\n",
        "source_descriptor = calc_descriptors_yolo(detector, \"image_0.png\")\n",
        "target_descriptor = calc_descriptors_yolo(detector, \"image_1.png\")\n",
        "similarity = calc_similarity(source_descriptor, target_descriptor)\n",
        "print(similarity)\n",
        "\n",
        "# No YOLO\n",
        "source_descriptor = calc_descriptors(detector, \"image_0.png\")\n",
        "target_descriptor = calc_descriptors(detector, \"image_1.png\")\n",
        "similarity = calc_similarity(source_descriptor, target_descriptor)\n",
        "print(similarity)"
      ],
      "metadata": {
        "colab": {
          "base_uri": "https://localhost:8080/"
        },
        "outputId": "dc1822f3-c5e7-4bb3-ae23-83a6ce8b6dcb",
        "id": "AsnlCisYlhde"
      },
      "execution_count": 26,
      "outputs": [
        {
          "output_type": "stream",
          "name": "stdout",
          "text": [
            "\n",
            "image 1/1 /content/image_0.png: 384x640 10 persons, 1 bus, 153.1ms\n",
            "Speed: 2.3ms preprocess, 153.1ms inference, 1.3ms postprocess per image at shape (1, 3, 384, 640)\n",
            "Results saved to \u001b[1mruns/detect/predict17\u001b[0m\n",
            "\n",
            "image 1/1 /content/image_1.png: 384x640 9 persons, 1 bus, 141.4ms\n",
            "Speed: 2.5ms preprocess, 141.4ms inference, 1.3ms postprocess per image at shape (1, 3, 384, 640)\n",
            "Results saved to \u001b[1mruns/detect/predict18\u001b[0m\n",
            "266.31062785515417\n",
            "266.0044492056476\n"
          ]
        }
      ]
    }
  ],
  "metadata": {
    "colab": {
      "provenance": [],
      "authorship_tag": "ABX9TyObrp0uuwcEu37nDVj+LMFJ",
      "include_colab_link": true
    },
    "kernelspec": {
      "display_name": "Python 3",
      "name": "python3"
    },
    "language_info": {
      "name": "python"
    }
  },
  "nbformat": 4,
  "nbformat_minor": 0
}